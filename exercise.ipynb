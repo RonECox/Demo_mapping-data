{
 "cells": [
  {
   "cell_type": "markdown",
   "id": "a4d5e548",
   "metadata": {},
   "source": [
    "# Requirements\n",
    "1. Filter wine ratings dataset by a distinct field.\n",
    "2. Save filtered subset in a formatted new JSON file.\n",
    "3. Create a Demo project to illustrate steps 1 and 2 above.\n",
    "4. Record a Demo video to document the project."
   ]
  },
  {
   "cell_type": "code",
   "execution_count": null,
   "id": "c23a05dd",
   "metadata": {},
   "outputs": [],
   "source": [
    "# Bring in required modules\n",
    "import pandas as pd # Used to process datasets as dataframes\n",
    "# Read in raw data \n",
    "df = pd.read_csv(\"wine-ratings-small.csv\", index_col=0) # read the csv file and set the index column to 0\n",
    "# Display a few lines to confirm a valid read \n",
    "df.head() # show the first 5 rows of the dataframe"
   ]
  },
  {
   "cell_type": "code",
   "execution_count": null,
   "id": "d33ee2d6",
   "metadata": {},
   "outputs": [],
   "source": [
    "# Get a quick description of the dataset\n",
    "df.info()"
   ]
  },
  {
   "cell_type": "code",
   "execution_count": null,
   "id": "0314316a",
   "metadata": {},
   "outputs": [],
   "source": [
    "# Remove the grape column since all values are null\n",
    "df.drop(columns=['grape'], inplace=True) # Drop the grape column from the dataframe\n",
    "# Confirm removal\n",
    "df.info()"
   ]
  },
  {
   "cell_type": "code",
   "execution_count": null,
   "id": "3f389c14",
   "metadata": {},
   "outputs": [],
   "source": [
    "# Filter the dataset - create a subset of sweet wines\n",
    "sweet_df = df[df['notes'].str.contains('sweet', case=False, na=False)] # Filter notes column on the string 'sweet' \n",
    "sweet_df.head()"
   ]
  },
  {
   "cell_type": "code",
   "execution_count": null,
   "id": "edc19668",
   "metadata": {},
   "outputs": [],
   "source": [
    "# Get a quick description of the dataset\n",
    "sweet_df.info()"
   ]
  },
  {
   "cell_type": "code",
   "execution_count": null,
   "id": "4613e804",
   "metadata": {},
   "outputs": [],
   "source": [
    "# Save filtered dataframe to a JSON file\n",
    "sweet_df.to_json(\"sweet-wine-ratings.json\", orient=\"records\", indent=4)"
   ]
  }
 ],
 "metadata": {
  "kernelspec": {
   "display_name": "Python 3",
   "language": "python",
   "name": "python3"
  },
  "language_info": {
   "codemirror_mode": {
    "name": "ipython",
    "version": 3
   },
   "file_extension": ".py",
   "mimetype": "text/x-python",
   "name": "python",
   "nbconvert_exporter": "python",
   "pygments_lexer": "ipython3",
   "version": "3.12.1"
  }
 },
 "nbformat": 4,
 "nbformat_minor": 5
}
