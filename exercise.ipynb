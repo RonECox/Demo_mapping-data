{
 "cells": [
  {
   "cell_type": "markdown",
   "id": "a4d5e548",
   "metadata": {},
   "source": [
    "# Requirements\n",
    "1. Filter wine ratings dataset by a distinct field.\n",
    "2. Save filtered subset in a formatted new JSON file.\n",
    "3. Create a Demo project to illustrate steps 1 and 2 above.\n",
    "4. Record a Demo video to document the project."
   ]
  },
  {
   "cell_type": "code",
   "execution_count": 1,
   "id": "c23a05dd",
   "metadata": {},
   "outputs": [
    {
     "data": {
      "text/html": [
       "<div>\n",
       "<style scoped>\n",
       "    .dataframe tbody tr th:only-of-type {\n",
       "        vertical-align: middle;\n",
       "    }\n",
       "\n",
       "    .dataframe tbody tr th {\n",
       "        vertical-align: top;\n",
       "    }\n",
       "\n",
       "    .dataframe thead th {\n",
       "        text-align: right;\n",
       "    }\n",
       "</style>\n",
       "<table border=\"1\" class=\"dataframe\">\n",
       "  <thead>\n",
       "    <tr style=\"text-align: right;\">\n",
       "      <th></th>\n",
       "      <th>name</th>\n",
       "      <th>grape</th>\n",
       "      <th>region</th>\n",
       "      <th>variety</th>\n",
       "      <th>rating</th>\n",
       "      <th>notes</th>\n",
       "    </tr>\n",
       "  </thead>\n",
       "  <tbody>\n",
       "    <tr>\n",
       "      <th>0</th>\n",
       "      <td>Laurenz V Charming Gruner Veltliner 2013</td>\n",
       "      <td>NaN</td>\n",
       "      <td>Kamptal, Austria</td>\n",
       "      <td>White Wine</td>\n",
       "      <td>90.0</td>\n",
       "      <td>Aromas of ripe apples and a typical Veltliner ...</td>\n",
       "    </tr>\n",
       "    <tr>\n",
       "      <th>1</th>\n",
       "      <td>Laurenz V Charming Gruner Veltliner 2014</td>\n",
       "      <td>NaN</td>\n",
       "      <td>Kamptal, Austria</td>\n",
       "      <td>White Wine</td>\n",
       "      <td>90.0</td>\n",
       "      <td>Aromas of ripe apples and a typical Veltliner ...</td>\n",
       "    </tr>\n",
       "    <tr>\n",
       "      <th>2</th>\n",
       "      <td>Laurenz V Singing Gruner Veltliner 2007</td>\n",
       "      <td>NaN</td>\n",
       "      <td>Austria</td>\n",
       "      <td>White Wine</td>\n",
       "      <td>90.0</td>\n",
       "      <td>A very attractive fruit bouquet yields apple, ...</td>\n",
       "    </tr>\n",
       "    <tr>\n",
       "      <th>3</th>\n",
       "      <td>Laurenz V Singing Gruner Veltliner 2010</td>\n",
       "      <td>NaN</td>\n",
       "      <td>Austria</td>\n",
       "      <td>White Wine</td>\n",
       "      <td>88.0</td>\n",
       "      <td>A very attractive fruit bouquet yields apple, ...</td>\n",
       "    </tr>\n",
       "    <tr>\n",
       "      <th>4</th>\n",
       "      <td>Laurenz V Singing Gruner Veltliner 2011</td>\n",
       "      <td>NaN</td>\n",
       "      <td>Austria</td>\n",
       "      <td>White Wine</td>\n",
       "      <td>88.0</td>\n",
       "      <td>A very attractive fruit bouquet yields apple, ...</td>\n",
       "    </tr>\n",
       "  </tbody>\n",
       "</table>\n",
       "</div>"
      ],
      "text/plain": [
       "                                       name  grape            region  \\\n",
       "0  Laurenz V Charming Gruner Veltliner 2013    NaN  Kamptal, Austria   \n",
       "1  Laurenz V Charming Gruner Veltliner 2014    NaN  Kamptal, Austria   \n",
       "2   Laurenz V Singing Gruner Veltliner 2007    NaN           Austria   \n",
       "3   Laurenz V Singing Gruner Veltliner 2010    NaN           Austria   \n",
       "4   Laurenz V Singing Gruner Veltliner 2011    NaN           Austria   \n",
       "\n",
       "      variety  rating                                              notes  \n",
       "0  White Wine    90.0  Aromas of ripe apples and a typical Veltliner ...  \n",
       "1  White Wine    90.0  Aromas of ripe apples and a typical Veltliner ...  \n",
       "2  White Wine    90.0  A very attractive fruit bouquet yields apple, ...  \n",
       "3  White Wine    88.0  A very attractive fruit bouquet yields apple, ...  \n",
       "4  White Wine    88.0  A very attractive fruit bouquet yields apple, ...  "
      ]
     },
     "execution_count": 1,
     "metadata": {},
     "output_type": "execute_result"
    }
   ],
   "source": [
    "# Bring in required modules\n",
    "import pandas as pd # Used to process datasets as dataframes\n",
    "# Read in raw data \n",
    "df = pd.read_csv(\"wine-ratings-small.csv\", index_col=0) # read the csv file and set the index column to 0\n",
    "# Display a few lines to confirm a valid read \n",
    "df.head() # show the first 5 rows of the dataframe"
   ]
  },
  {
   "cell_type": "code",
   "execution_count": 2,
   "id": "d33ee2d6",
   "metadata": {},
   "outputs": [
    {
     "name": "stdout",
     "output_type": "stream",
     "text": [
      "<class 'pandas.core.frame.DataFrame'>\n",
      "Index: 780 entries, 0 to 779\n",
      "Data columns (total 6 columns):\n",
      " #   Column   Non-Null Count  Dtype  \n",
      "---  ------   --------------  -----  \n",
      " 0   name     780 non-null    object \n",
      " 1   grape    0 non-null      float64\n",
      " 2   region   780 non-null    object \n",
      " 3   variety  777 non-null    object \n",
      " 4   rating   780 non-null    float64\n",
      " 5   notes    775 non-null    object \n",
      "dtypes: float64(2), object(4)\n",
      "memory usage: 42.7+ KB\n"
     ]
    }
   ],
   "source": [
    "# Get a quick description of the dataset\n",
    "df.info()"
   ]
  },
  {
   "cell_type": "code",
   "execution_count": 3,
   "id": "0314316a",
   "metadata": {},
   "outputs": [
    {
     "name": "stdout",
     "output_type": "stream",
     "text": [
      "<class 'pandas.core.frame.DataFrame'>\n",
      "Index: 780 entries, 0 to 779\n",
      "Data columns (total 5 columns):\n",
      " #   Column   Non-Null Count  Dtype  \n",
      "---  ------   --------------  -----  \n",
      " 0   name     780 non-null    object \n",
      " 1   region   780 non-null    object \n",
      " 2   variety  777 non-null    object \n",
      " 3   rating   780 non-null    float64\n",
      " 4   notes    775 non-null    object \n",
      "dtypes: float64(1), object(4)\n",
      "memory usage: 36.6+ KB\n"
     ]
    }
   ],
   "source": [
    "# Remove the grape column since all values are null\n",
    "df.drop(columns=['grape'], inplace=True) # Drop the grape column from the dataframe\n",
    "# Confirm removal\n",
    "df.info()"
   ]
  },
  {
   "cell_type": "code",
   "execution_count": 4,
   "id": "3f389c14",
   "metadata": {},
   "outputs": [
    {
     "data": {
      "text/html": [
       "<div>\n",
       "<style scoped>\n",
       "    .dataframe tbody tr th:only-of-type {\n",
       "        vertical-align: middle;\n",
       "    }\n",
       "\n",
       "    .dataframe tbody tr th {\n",
       "        vertical-align: top;\n",
       "    }\n",
       "\n",
       "    .dataframe thead th {\n",
       "        text-align: right;\n",
       "    }\n",
       "</style>\n",
       "<table border=\"1\" class=\"dataframe\">\n",
       "  <thead>\n",
       "    <tr style=\"text-align: right;\">\n",
       "      <th></th>\n",
       "      <th>name</th>\n",
       "      <th>region</th>\n",
       "      <th>variety</th>\n",
       "      <th>rating</th>\n",
       "      <th>notes</th>\n",
       "    </tr>\n",
       "  </thead>\n",
       "  <tbody>\n",
       "    <tr>\n",
       "      <th>22</th>\n",
       "      <td>Lava Cap Syrah 2013</td>\n",
       "      <td>El Dorado, Sierra Foothills, California</td>\n",
       "      <td>Red Wine</td>\n",
       "      <td>92.0</td>\n",
       "      <td>The Syrah Vineyard grows on a beautiful south ...</td>\n",
       "    </tr>\n",
       "    <tr>\n",
       "      <th>48</th>\n",
       "      <td>L'Aventure Estate Cuvee 2006</td>\n",
       "      <td>Paso Robles, Central Coast, California</td>\n",
       "      <td>Red Wine</td>\n",
       "      <td>97.0</td>\n",
       "      <td>\"A thrilling, nearly perfect efforts is the 20...</td>\n",
       "    </tr>\n",
       "    <tr>\n",
       "      <th>67</th>\n",
       "      <td>Lavinea Elton Pinot Noir 2016</td>\n",
       "      <td>Eola-Amity Hills, Willamette Valley, Oregon</td>\n",
       "      <td>Red Wine</td>\n",
       "      <td>91.0</td>\n",
       "      <td>Bright and deep purple in color with a bluish ...</td>\n",
       "    </tr>\n",
       "    <tr>\n",
       "      <th>69</th>\n",
       "      <td>Lavinea Nysa Pinot Noir 2016</td>\n",
       "      <td>Dundee Hills, Willamette Valley, Oregon</td>\n",
       "      <td>Red Wine</td>\n",
       "      <td>93.0</td>\n",
       "      <td>Clear and shiny, beautiful purple color with a...</td>\n",
       "    </tr>\n",
       "    <tr>\n",
       "      <th>76</th>\n",
       "      <td>Lawson's Dry Hills Gewurztraminer 2009</td>\n",
       "      <td>New Zealand</td>\n",
       "      <td>White Wine</td>\n",
       "      <td>90.0</td>\n",
       "      <td>The 2009 Lawson's Dry Hills Gewürztraminer is ...</td>\n",
       "    </tr>\n",
       "  </tbody>\n",
       "</table>\n",
       "</div>"
      ],
      "text/plain": [
       "                                      name  \\\n",
       "22                     Lava Cap Syrah 2013   \n",
       "48            L'Aventure Estate Cuvee 2006   \n",
       "67           Lavinea Elton Pinot Noir 2016   \n",
       "69            Lavinea Nysa Pinot Noir 2016   \n",
       "76  Lawson's Dry Hills Gewurztraminer 2009   \n",
       "\n",
       "                                         region     variety  rating  \\\n",
       "22      El Dorado, Sierra Foothills, California    Red Wine    92.0   \n",
       "48       Paso Robles, Central Coast, California    Red Wine    97.0   \n",
       "67  Eola-Amity Hills, Willamette Valley, Oregon    Red Wine    91.0   \n",
       "69      Dundee Hills, Willamette Valley, Oregon    Red Wine    93.0   \n",
       "76                                  New Zealand  White Wine    90.0   \n",
       "\n",
       "                                                notes  \n",
       "22  The Syrah Vineyard grows on a beautiful south ...  \n",
       "48  \"A thrilling, nearly perfect efforts is the 20...  \n",
       "67  Bright and deep purple in color with a bluish ...  \n",
       "69  Clear and shiny, beautiful purple color with a...  \n",
       "76  The 2009 Lawson's Dry Hills Gewürztraminer is ...  "
      ]
     },
     "execution_count": 4,
     "metadata": {},
     "output_type": "execute_result"
    }
   ],
   "source": [
    "# Filter the dataset - create a subset of sweet wines\n",
    "sweet_df = df[df['notes'].str.contains('sweet', case=False, na=False)] # Filter notes column on the string 'sweet' \n",
    "sweet_df.head()"
   ]
  },
  {
   "cell_type": "code",
   "execution_count": 5,
   "id": "edc19668",
   "metadata": {},
   "outputs": [
    {
     "name": "stdout",
     "output_type": "stream",
     "text": [
      "<class 'pandas.core.frame.DataFrame'>\n",
      "Index: 144 entries, 22 to 777\n",
      "Data columns (total 5 columns):\n",
      " #   Column   Non-Null Count  Dtype  \n",
      "---  ------   --------------  -----  \n",
      " 0   name     144 non-null    object \n",
      " 1   region   144 non-null    object \n",
      " 2   variety  142 non-null    object \n",
      " 3   rating   144 non-null    float64\n",
      " 4   notes    144 non-null    object \n",
      "dtypes: float64(1), object(4)\n",
      "memory usage: 6.8+ KB\n"
     ]
    }
   ],
   "source": [
    "# Get a quick description of the dataset\n",
    "sweet_df.info()"
   ]
  },
  {
   "cell_type": "code",
   "execution_count": 6,
   "id": "4613e804",
   "metadata": {},
   "outputs": [],
   "source": [
    "# Save filtered dataframe to a JSON file\n",
    "sweet_df.to_json(\"sweet-wine-ratings.json\", orient=\"records\", indent=4)"
   ]
  }
 ],
 "metadata": {
  "kernelspec": {
   "display_name": "Python 3",
   "language": "python",
   "name": "python3"
  },
  "language_info": {
   "codemirror_mode": {
    "name": "ipython",
    "version": 3
   },
   "file_extension": ".py",
   "mimetype": "text/x-python",
   "name": "python",
   "nbconvert_exporter": "python",
   "pygments_lexer": "ipython3",
   "version": "3.12.1"
  }
 },
 "nbformat": 4,
 "nbformat_minor": 5
}
